{
 "cells": [
  {
   "cell_type": "code",
   "execution_count": null,
   "metadata": {
    "collapsed": true
   },
   "outputs": [],
   "source": [
    "import cv2\n",
    "import numpy as np"
   ]
  },
  {
   "cell_type": "code",
   "execution_count": null,
   "metadata": {
    "collapsed": true
   },
   "outputs": [],
   "source": [
    "fake_image = np.random.rand(480,640,3) * 255.\n",
    "cv2.imwrite('fake0.png', fake_image)\n",
    "\n",
    "fake_image_1 = cv2.imread('fake0.png')\n",
    "fake_image_2 = np.asarray(fake_image_1, dtype=np.float32)\n",
    "\n",
    "cv2.imwrite('fake1.png', fake_image_1)\n",
    "cv2.imwrite('fake2.png', fake_image_2)\n",
    "\n",
    "fake_image_1_1 = cv2.imread('fake1.png')\n",
    "fake_image_2_1 = cv2.imread('fake2.png')\n",
    "\n",
    "print(fake_image[0,0,:])\n",
    "print(fake_image_1[0,0,:])\n",
    "print(fake_image_1_1[0,0,:])\n",
    "print(fake_image_2_1[0,0,:])\n",
    "\n",
    "print('mean: {}, std dev: {}'.format(np.mean(fake_image), np.std(fake_image)))\n",
    "print('mean: {}, std dev: {}'.format(np.mean(fake_image_1), np.std(fake_image_1)))"
   ]
  }
 ],
 "metadata": {
  "kernelspec": {
   "display_name": "Python [conda root]",
   "language": "python",
   "name": "conda-root-py"
  },
  "language_info": {
   "codemirror_mode": {
    "name": "ipython",
    "version": 3
   },
   "file_extension": ".py",
   "mimetype": "text/x-python",
   "name": "python",
   "nbconvert_exporter": "python",
   "pygments_lexer": "ipython3",
   "version": "3.5.2"
  }
 },
 "nbformat": 4,
 "nbformat_minor": 1
}
