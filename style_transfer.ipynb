{
 "cells": [
  {
   "cell_type": "markdown",
   "metadata": {},
   "source": [
    "\"\"\"\n",
    "\n",
    "This notebook runs through Section 2.3: Style Transfer. \n",
    "The images generated are similar to those in Figure 3. \n",
    "\n",
    "The Directory Paths block should be edited to suit local directory structure. \n",
    "The Chosen Parameters block can be changed to try out different experimental settings. \n",
    "\n",
    "\"\"\""
   ]
  },
  {
   "cell_type": "code",
   "execution_count": 2,
   "metadata": {
    "collapsed": false
   },
   "outputs": [
    {
     "name": "stdout",
     "output_type": "stream",
     "text": [
      "3.5.2 |Anaconda 4.2.0 (64-bit)| (default, Jul  5 2016, 11:41:13) [MSC v.1900 64 bit (AMD64)]\n"
     ]
    }
   ],
   "source": [
    "import cv2\n",
    "import matplotlib\n",
    "import matplotlib.pyplot as plt\n",
    "%matplotlib inline\n",
    "import numpy as np\n",
    "import os\n",
    "import shutil\n",
    "import tensorflow as tf\n",
    "import tensorflow.contrib.slim as slim\n",
    "\n",
    "from utils.imaging import display_image, format_image, save_image\n",
    "import vgg"
   ]
  },
  {
   "cell_type": "markdown",
   "metadata": {},
   "source": [
    "### Directory Paths"
   ]
  },
  {
   "cell_type": "code",
   "execution_count": null,
   "metadata": {
    "collapsed": true
   },
   "outputs": [],
   "source": [
    "# Path to image we are extracting content from\n",
    "real_image_path = './coastal_scene.jpg'\n",
    "\n",
    "# Path to vgg19 checkpoint, must be downloaded separately\n",
    "checkpoint_path = './vgg_19.ckpt'\n",
    "\n",
    "# Location of tensorboard summaries\n",
    "tensorboard_dir = './train/'\n",
    "\n",
    "# Path to directory used for storing images\n",
    "debug_dir = './debug/'\n",
    "\n",
    "# Determines whether information is saved between runs\n",
    "# for tensorboard\n",
    "reset_saves = True\n",
    "if reset_saves is True:\n",
    "    # Ensure tensorboard is not running when you try to delete\n",
    "    # this directory\n",
    "    if os.path.exists(tensorboard_dir):\n",
    "        shutil.rmtree(tensorboard_dir)\n",
    "        \n",
    "# Create the debug directory if it doesn't exist\n",
    "# Tensorboard directory is made automatically if it doesn't exist\n",
    "if os.path.exists(debug_dir):\n",
    "    shutil.rmtree(debug_dir)\n",
    "os.makedirs(debug_dir)"
   ]
  },
  {
   "cell_type": "markdown",
   "metadata": {},
   "source": [
    "### Chosen Parameters"
   ]
  },
  {
   "cell_type": "code",
   "execution_count": null,
   "metadata": {
    "collapsed": true
   },
   "outputs": [],
   "source": [
    "# Dimensions desired for image, channels must be kept as 3\n",
    "height = 224\n",
    "width = 224\n",
    "channels = 3\n",
    "\n",
    "# Set the seeds to provide consistency between runs\n",
    "# Can also comment out for variability between runs\n",
    "np.random.seed(2)\n",
    "tf.set_random_seed(2)\n",
    "\n",
    "# Layer being used to produce features\n",
    "content_layer = 'vgg_19/conv2/conv2_2'\n",
    "style_list = ['vgg_19/conv1/conv1_1', 'vgg_19/conv2/conv2_1', 'vgg_19/conv3/conv3_1',\n",
    "    'vgg_19/conv4/conv4_1', 'vgg_19/conv5/conv5_1']\n",
    "\n",
    "# Chosen depth corresponds to how many feature layers you want to use\n",
    "# for the style component\n",
    "chosen_depth = 2\n",
    "\n",
    "# Learning rate for optimizer\n",
    "learning_rate = 1e-1\n",
    "\n",
    "# Number of training and validation step\n",
    "# In this instance, validation refers to when we would like to examine the \n",
    "# currently optimized image, save it, and loss\n",
    "training_steps = 100000\n",
    "validation_steps = 1000\n",
    "\n",
    "# Online debugging refers to images that will be displayed within the notebook \n",
    "# using plt\n",
    "# Offline debugging refers to images that will be saved to folder using plt\n",
    "debug_online = True\n",
    "debug_offline = True"
   ]
  },
  {
   "cell_type": "markdown",
   "metadata": {},
   "source": [
    "### Set up the input node and feature extractor"
   ]
  },
  {
   "cell_type": "code",
   "execution_count": null,
   "metadata": {
    "collapsed": true
   },
   "outputs": [],
   "source": [
    "# The input node to the graph\n",
    "# These values are what is required by vgg19 for height, width, channels\n",
    "input_var_initial_value = np.random.rand(1, height, width, channels)\n",
    "input_var = tf.Variable(input_var_initial_value, dtype=tf.float32, name='input_var')\n",
    "\n",
    "# Load the vgg model\n",
    "with slim.arg_scope(vgg.vgg_arg_scope()):\n",
    "    end_points = vgg.vgg_19_conv(input_var)"
   ]
  },
  {
   "cell_type": "markdown",
   "metadata": {},
   "source": [
    "### Load real image and create to-be-optimized image"
   ]
  },
  {
   "cell_type": "code",
   "execution_count": null,
   "metadata": {
    "collapsed": true
   },
   "outputs": [],
   "source": [
    "# Construct the real image tensor\n",
    "# And the graph operation which assigns it to input_var\n",
    "real_image = plt.imread(real_image_path)\n",
    "real_image = cv2.resize(real_image, (height, width))\n",
    "real_image_batch = np.expand_dims(real_image, axis=0)\n",
    "real_image_batch = np.asarray(real_image_batch, dtype=np.float32)\n",
    "real_image_tensor = tf.Variable(real_image_batch, dtype=tf.float32, name='real_image')\n",
    "\n",
    "assign_real_image = tf.assign(input_var, real_image_tensor, name='assign_real_image')\n",
    "\n",
    "# Construct the white noise tensor\n",
    "# And the graph operation which assigns it to input_var\n",
    "white_noise = np.random.rand(height, width, channels) * 255.\n",
    "white_noise_batch = np.expand_dims(white_noise, axis=0)\n",
    "white_noise_batch = np.asarray(white_noise_batch, dtype=np.float32)\n",
    "white_noise_tensor = tf.Variable(white_noise_batch, dtype=tf.float32, name='white_noise')\n",
    "\n",
    "assign_white_noise = tf.assign(input_var, white_noise_tensor, name='assign_white_noise')"
   ]
  }
 ],
 "metadata": {
  "kernelspec": {
   "display_name": "Python [conda root]",
   "language": "python",
   "name": "conda-root-py"
  },
  "language_info": {
   "codemirror_mode": {
    "name": "ipython",
    "version": 3
   },
   "file_extension": ".py",
   "mimetype": "text/x-python",
   "name": "python",
   "nbconvert_exporter": "python",
   "pygments_lexer": "ipython3",
   "version": "3.5.2"
  }
 },
 "nbformat": 4,
 "nbformat_minor": 1
}
