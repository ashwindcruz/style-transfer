{
 "cells": [
  {
   "cell_type": "markdown",
   "metadata": {},
   "source": [
    "A short snippet showing how to instatiate a TF Saver object that will only load weights for a specific subset of variables in the current graph. "
   ]
  },
  {
   "cell_type": "code",
   "execution_count": 1,
   "metadata": {
    "collapsed": false
   },
   "outputs": [],
   "source": [
    "import numpy as np\n",
    "import sys\n",
    "import tensorflow as tf\n",
    "import tensorflow.contrib.slim as slim\n",
    "\n",
    "sys.path.append('../')\n",
    "\n",
    "import vgg"
   ]
  },
  {
   "cell_type": "code",
   "execution_count": 2,
   "metadata": {
    "collapsed": false
   },
   "outputs": [],
   "source": [
    "# In case you want to rerun this block again, resetting the graph means you don't \n",
    "# have to restart the kernel\n",
    "tf.reset_default_graph()\n",
    "\n",
    "# Input dimensions\n",
    "height = 224\n",
    "width = 224\n",
    "channels = 3\n",
    "\n",
    "# The input node to the graph\n",
    "# These values are what is required by vgg19 for height, width, channels\n",
    "input_var_initial_value = np.random.rand(1, height, width, channels)\n",
    "input_var = tf.Variable(input_var_initial_value, dtype=tf.float32, name='input_var')\n",
    "\n",
    "# Load the vgg model\n",
    "with slim.arg_scope(vgg.vgg_arg_scope()):\n",
    "    logits, end_points = vgg.vgg_19(input_var, num_classes=1000, is_training=False)"
   ]
  },
  {
   "cell_type": "code",
   "execution_count": 3,
   "metadata": {
    "collapsed": false
   },
   "outputs": [
    {
     "name": "stdout",
     "output_type": "stream",
     "text": [
      "[<tf.Variable 'input_var:0' shape=(1, 224, 224, 3) dtype=float32_ref>, <tf.Variable 'vgg_19/conv1/conv1_1/weights:0' shape=(3, 3, 3, 64) dtype=float32_ref>, <tf.Variable 'vgg_19/conv1/conv1_1/biases:0' shape=(64,) dtype=float32_ref>, <tf.Variable 'vgg_19/conv1/conv1_2/weights:0' shape=(3, 3, 64, 64) dtype=float32_ref>, <tf.Variable 'vgg_19/conv1/conv1_2/biases:0' shape=(64,) dtype=float32_ref>, <tf.Variable 'vgg_19/conv2/conv2_1/weights:0' shape=(3, 3, 64, 128) dtype=float32_ref>, <tf.Variable 'vgg_19/conv2/conv2_1/biases:0' shape=(128,) dtype=float32_ref>, <tf.Variable 'vgg_19/conv2/conv2_2/weights:0' shape=(3, 3, 128, 128) dtype=float32_ref>, <tf.Variable 'vgg_19/conv2/conv2_2/biases:0' shape=(128,) dtype=float32_ref>, <tf.Variable 'vgg_19/conv3/conv3_1/weights:0' shape=(3, 3, 128, 256) dtype=float32_ref>, <tf.Variable 'vgg_19/conv3/conv3_1/biases:0' shape=(256,) dtype=float32_ref>, <tf.Variable 'vgg_19/conv3/conv3_2/weights:0' shape=(3, 3, 256, 256) dtype=float32_ref>, <tf.Variable 'vgg_19/conv3/conv3_2/biases:0' shape=(256,) dtype=float32_ref>, <tf.Variable 'vgg_19/conv3/conv3_3/weights:0' shape=(3, 3, 256, 256) dtype=float32_ref>, <tf.Variable 'vgg_19/conv3/conv3_3/biases:0' shape=(256,) dtype=float32_ref>, <tf.Variable 'vgg_19/conv3/conv3_4/weights:0' shape=(3, 3, 256, 256) dtype=float32_ref>, <tf.Variable 'vgg_19/conv3/conv3_4/biases:0' shape=(256,) dtype=float32_ref>, <tf.Variable 'vgg_19/conv4/conv4_1/weights:0' shape=(3, 3, 256, 512) dtype=float32_ref>, <tf.Variable 'vgg_19/conv4/conv4_1/biases:0' shape=(512,) dtype=float32_ref>, <tf.Variable 'vgg_19/conv4/conv4_2/weights:0' shape=(3, 3, 512, 512) dtype=float32_ref>, <tf.Variable 'vgg_19/conv4/conv4_2/biases:0' shape=(512,) dtype=float32_ref>, <tf.Variable 'vgg_19/conv4/conv4_3/weights:0' shape=(3, 3, 512, 512) dtype=float32_ref>, <tf.Variable 'vgg_19/conv4/conv4_3/biases:0' shape=(512,) dtype=float32_ref>, <tf.Variable 'vgg_19/conv4/conv4_4/weights:0' shape=(3, 3, 512, 512) dtype=float32_ref>, <tf.Variable 'vgg_19/conv4/conv4_4/biases:0' shape=(512,) dtype=float32_ref>, <tf.Variable 'vgg_19/conv5/conv5_1/weights:0' shape=(3, 3, 512, 512) dtype=float32_ref>, <tf.Variable 'vgg_19/conv5/conv5_1/biases:0' shape=(512,) dtype=float32_ref>, <tf.Variable 'vgg_19/conv5/conv5_2/weights:0' shape=(3, 3, 512, 512) dtype=float32_ref>, <tf.Variable 'vgg_19/conv5/conv5_2/biases:0' shape=(512,) dtype=float32_ref>, <tf.Variable 'vgg_19/conv5/conv5_3/weights:0' shape=(3, 3, 512, 512) dtype=float32_ref>, <tf.Variable 'vgg_19/conv5/conv5_3/biases:0' shape=(512,) dtype=float32_ref>, <tf.Variable 'vgg_19/conv5/conv5_4/weights:0' shape=(3, 3, 512, 512) dtype=float32_ref>, <tf.Variable 'vgg_19/conv5/conv5_4/biases:0' shape=(512,) dtype=float32_ref>, <tf.Variable 'vgg_19/fc6/weights:0' shape=(7, 7, 512, 4096) dtype=float32_ref>, <tf.Variable 'vgg_19/fc6/biases:0' shape=(4096,) dtype=float32_ref>, <tf.Variable 'vgg_19/fc7/weights:0' shape=(1, 1, 4096, 4096) dtype=float32_ref>, <tf.Variable 'vgg_19/fc7/biases:0' shape=(4096,) dtype=float32_ref>, <tf.Variable 'vgg_19/fc8/weights:0' shape=(1, 1, 4096, 1000) dtype=float32_ref>, <tf.Variable 'vgg_19/fc8/biases:0' shape=(1000,) dtype=float32_ref>]\n"
     ]
    }
   ],
   "source": [
    "# View all the variables in the current graph\n",
    "all_variables = tf.get_collection_ref(tf.GraphKeys.GLOBAL_VARIABLES)\n",
    "print(all_variables)"
   ]
  },
  {
   "cell_type": "code",
   "execution_count": 4,
   "metadata": {
    "collapsed": true
   },
   "outputs": [],
   "source": [
    "# Prepare to restore the vgg19 nodes\n",
    "# Skip trying to restore the input variable since it's new\n",
    "saver = tf.train.Saver(var_list=all_variables[1:])"
   ]
  },
  {
   "cell_type": "code",
   "execution_count": 5,
   "metadata": {
    "collapsed": false,
    "scrolled": false
   },
   "outputs": [
    {
     "name": "stdout",
     "output_type": "stream",
     "text": [
      "INFO:tensorflow:Restoring parameters from ../vgg_19.ckpt\n"
     ]
    }
   ],
   "source": [
    "# Restore weights of vgg_10 model\n",
    "checkpoint_path = '../vgg_19.ckpt'\n",
    "with tf.Session() as sess:\n",
    "    saver.restore(sess, checkpoint_path)"
   ]
  }
 ],
 "metadata": {
  "anaconda-cloud": {},
  "kernelspec": {
   "display_name": "Python [default]",
   "language": "python",
   "name": "python3"
  },
  "language_info": {
   "codemirror_mode": {
    "name": "ipython",
    "version": 3
   },
   "file_extension": ".py",
   "mimetype": "text/x-python",
   "name": "python",
   "nbconvert_exporter": "python",
   "pygments_lexer": "ipython3",
   "version": "3.5.2"
  }
 },
 "nbformat": 4,
 "nbformat_minor": 1
}
