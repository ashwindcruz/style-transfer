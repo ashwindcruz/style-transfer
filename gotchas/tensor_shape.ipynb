{
 "cells": [
  {
   "cell_type": "markdown",
   "metadata": {},
   "source": [
    "A short snippet demonstrating the effects of not correcting the channel order when loading an image using cv2."
   ]
  },
  {
   "cell_type": "code",
   "execution_count": 1,
   "metadata": {
    "collapsed": true
   },
   "outputs": [],
   "source": [
    "import numpy as np\n",
    "import tensorflow as tf"
   ]
  },
  {
   "cell_type": "code",
   "execution_count": 2,
   "metadata": {
    "collapsed": false
   },
   "outputs": [
    {
     "name": "stdout",
     "output_type": "stream",
     "text": [
      "[[[0.48376162 0.55346869]\n",
      "  [0.86077522 0.93718135]\n",
      "  [0.22666205 0.08198309]\n",
      "  [0.72201535 0.09281665]]]\n"
     ]
    }
   ],
   "source": [
    "# Set up some dummy data\n",
    "dummy_data = np.random.rand(1,4,2)\n",
    "print(dummy_data)"
   ]
  },
  {
   "cell_type": "code",
   "execution_count": 3,
   "metadata": {
    "collapsed": false
   },
   "outputs": [
    {
     "name": "stdout",
     "output_type": "stream",
     "text": [
      "(1, 4, 2)\n"
     ]
    }
   ],
   "source": [
    "# Obtain shape using numpy\n",
    "print(np.shape(dummy_data))"
   ]
  },
  {
   "cell_type": "code",
   "execution_count": 4,
   "metadata": {
    "collapsed": false
   },
   "outputs": [
    {
     "name": "stdout",
     "output_type": "stream",
     "text": [
      "TF shape function outside a session: Tensor(\"Shape:0\", shape=(3,), dtype=int32)\n",
      "Get Shape: [1, 4, 2]\n",
      "TF shape function inside a session: [1 4 2]\n"
     ]
    }
   ],
   "source": [
    "# Obtain shape using tf\n",
    "dummy_tensor = tf.constant(dummy_data)\n",
    "print(\"TF shape function outside a session: {}\".format(tf.shape(dummy_tensor)))\n",
    "print(\"Get Shape: {}\".format(dummy_tensor.get_shape().as_list()))\n",
    "\n",
    "dummy_tensor_shape = tf.shape(dummy_tensor)\n",
    "with tf.Session() as sess:\n",
    "    dummy_tensor_shape_ = sess.run(dummy_tensor_shape)\n",
    "    print(\"TF shape function inside a session: {}\".format(dummy_tensor_shape_))"
   ]
  }
 ],
 "metadata": {
  "anaconda-cloud": {},
  "kernelspec": {
   "display_name": "Python [default]",
   "language": "python",
   "name": "python3"
  },
  "language_info": {
   "codemirror_mode": {
    "name": "ipython",
    "version": 3
   },
   "file_extension": ".py",
   "mimetype": "text/x-python",
   "name": "python",
   "nbconvert_exporter": "python",
   "pygments_lexer": "ipython3",
   "version": "3.5.2"
  }
 },
 "nbformat": 4,
 "nbformat_minor": 1
}
