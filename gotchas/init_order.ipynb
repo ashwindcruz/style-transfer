{
 "cells": [
  {
   "cell_type": "markdown",
   "metadata": {},
   "source": [
    "A short snippet showing how to instatiate a TF Saver object that will only load weights for a specific subset of variables in the current graph. "
   ]
  },
  {
   "cell_type": "code",
   "execution_count": 1,
   "metadata": {
    "collapsed": false
   },
   "outputs": [],
   "source": [
    "import numpy as np\n",
    "import sys\n",
    "import tensorflow as tf\n",
    "import tensorflow.contrib.slim as slim\n",
    "\n",
    "sys.path.append('../')\n",
    "\n",
    "import vgg"
   ]
  },
  {
   "cell_type": "code",
   "execution_count": 3,
   "metadata": {
    "collapsed": false
   },
   "outputs": [],
   "source": [
    "# In case you want to rerun this block again, resetting the graph means you don't \n",
    "# have to restart the kernel\n",
    "tf.reset_default_graph()\n",
    "\n",
    "# Input dimensions\n",
    "height = 224\n",
    "width = 224\n",
    "channels = 3\n",
    "\n",
    "# The input node to the graph\n",
    "# These values are what is required by vgg19 for height, width, channels\n",
    "input_var_initial_value = np.ones([1, height, width, channels])\n",
    "input_var = tf.Variable(input_var_initial_value, dtype=tf.float32, name='input_var')\n",
    "\n",
    "# Load the vgg model\n",
    "with slim.arg_scope(vgg.vgg_arg_scope()):\n",
    "    logits, end_points = vgg.vgg_19(input_var, num_classes=1000, is_training=False)\n",
    "    \n",
    "# Choose a layer to extract features from\n",
    "predictions = end_points['vgg_19/conv2/conv2_2']"
   ]
  },
  {
   "cell_type": "code",
   "execution_count": 4,
   "metadata": {
    "collapsed": false
   },
   "outputs": [],
   "source": [
    "# Prepare to restore the vgg19 nodes\n",
    "# Skip trying to restore the input variable since it's new\n",
    "all_variables = tf.get_collection_ref(tf.GraphKeys.GLOBAL_VARIABLES)\n",
    "saver = tf.train.Saver(var_list=all_variables[1:])"
   ]
  },
  {
   "cell_type": "code",
   "execution_count": 5,
   "metadata": {
    "collapsed": true
   },
   "outputs": [],
   "source": [
    "# Set up initializer node\n",
    "init_op = tf.group(tf.global_variables_initializer(), tf.local_variables_initializer(),\n",
    "                  name='initialize_all')"
   ]
  },
  {
   "cell_type": "code",
   "execution_count": 10,
   "metadata": {
    "collapsed": true
   },
   "outputs": [],
   "source": [
    "# Choose which input data type you want to experiment with, set to 0 or 1\n",
    "# 0: Run init op before restoring weights\n",
    "# 1: Run init op after restoring weights\n",
    "init_order = 0"
   ]
  },
  {
   "cell_type": "code",
   "execution_count": 13,
   "metadata": {
    "collapsed": false,
    "scrolled": false
   },
   "outputs": [
    {
     "name": "stdout",
     "output_type": "stream",
     "text": [
      "INFO:tensorflow:Restoring parameters from ../vgg_19.ckpt\n",
      "[[[[ 0.5719199   2.3818219   2.5194197  ...  0.          0.\n",
      "     0.        ]\n",
      "   [ 6.8444347   0.          0.         ...  6.407086    0.\n",
      "     0.        ]\n",
      "   [ 7.344654    0.8460521   0.         ...  6.411472    0.\n",
      "     0.        ]\n",
      "   ...\n",
      "   [ 7.903805    3.171542    0.         ...  6.240306    0.\n",
      "     0.        ]\n",
      "   [ 7.8677397  11.640962    0.         ...  6.1735344   0.\n",
      "     0.        ]\n",
      "   [ 7.2823486   2.5733986   0.         ...  6.994039    0.\n",
      "     0.        ]]\n",
      "\n",
      "  [[ 0.          0.          3.156559   ...  0.39494735 15.12877\n",
      "     0.        ]\n",
      "   [ 3.131602    0.          0.         ...  9.215321    9.607505\n",
      "     0.        ]\n",
      "   [ 3.8075905   0.          0.         ...  7.8999763   7.0400906\n",
      "     0.        ]\n",
      "   ...\n",
      "   [ 4.6171656   0.          0.         ...  7.8222284   8.590085\n",
      "     0.        ]\n",
      "   [ 5.097373    9.317201    0.         ...  8.248243    2.0667112\n",
      "     0.        ]\n",
      "   [ 7.273373    0.          0.         ...  8.796474    0.\n",
      "     0.5095571 ]]\n",
      "\n",
      "  [[ 0.          0.          1.7107463  ...  0.         14.006212\n",
      "     0.        ]\n",
      "   [ 1.932431    0.          0.         ...  5.486869   10.001119\n",
      "     0.        ]\n",
      "   [ 2.155542    0.          0.         ...  4.2879777   7.7822685\n",
      "     0.        ]\n",
      "   ...\n",
      "   [ 3.09614     0.          0.         ...  4.0758886   9.598949\n",
      "     0.        ]\n",
      "   [ 4.6507955  10.764508    0.53032225 ...  4.0851283   4.7147527\n",
      "     0.        ]\n",
      "   [ 7.2331543   0.          0.30283284 ...  4.997458    0.\n",
      "     0.3136789 ]]\n",
      "\n",
      "  ...\n",
      "\n",
      "  [[ 0.          0.          2.2713428  ...  0.         13.508784\n",
      "     0.        ]\n",
      "   [ 1.296103    0.          0.         ...  6.7666593   8.829887\n",
      "     0.        ]\n",
      "   [ 1.6892804   0.          0.         ...  5.6763363   6.382916\n",
      "     0.        ]\n",
      "   ...\n",
      "   [ 2.4308743   0.04186673  0.         ...  5.490399    8.311788\n",
      "     0.        ]\n",
      "   [ 3.9883955  11.474899    0.03545977 ...  5.672904    3.8805635\n",
      "     0.        ]\n",
      "   [ 6.868329    0.1124825   0.3065127  ...  6.3359      0.\n",
      "     0.21015826]]\n",
      "\n",
      "  [[ 0.          0.775245    1.2930435  ...  1.630833   15.526074\n",
      "     0.        ]\n",
      "   [ 1.6033128   0.          0.         ... 10.023395   11.099922\n",
      "     0.        ]\n",
      "   [ 1.816293    0.          0.         ...  8.211735    8.035131\n",
      "     0.        ]\n",
      "   ...\n",
      "   [ 2.5205603   0.7084212   0.         ...  8.090355    9.619444\n",
      "     0.        ]\n",
      "   [ 3.7855897  10.661003    0.751341   ...  8.56068     5.163334\n",
      "     0.        ]\n",
      "   [ 6.8028293   0.          1.8777419  ...  8.247716    0.\n",
      "     0.        ]]\n",
      "\n",
      "  [[ 0.          0.          0.         ...  0.         17.374453\n",
      "     0.        ]\n",
      "   [ 0.          0.          0.         ...  5.1626997  11.820323\n",
      "     0.        ]\n",
      "   [ 0.          0.          0.         ...  4.034657    8.622833\n",
      "     0.        ]\n",
      "   ...\n",
      "   [ 0.          0.          0.         ...  4.0960937   9.949755\n",
      "     0.        ]\n",
      "   [ 0.          1.6597116   0.         ...  3.9453375   7.064354\n",
      "     0.        ]\n",
      "   [ 0.38319448  0.          0.         ...  4.000861    0.\n",
      "     0.        ]]]]\n"
     ]
    }
   ],
   "source": [
    "# Restore weights of vgg_10 model\n",
    "checkpoint_path = '../vgg_19.ckpt'\n",
    "with tf.Session() as sess:\n",
    "    \n",
    "    if init_order == 0:\n",
    "        # This is the correct order\n",
    "        sess.run(init_op)\n",
    "        saver.restore(sess, checkpoint_path)\n",
    "    else: \n",
    "        # This is the wrong order\n",
    "        saver.restore(sess, checkpoint_path)\n",
    "        sess.run(init_op)\n",
    "    \n",
    "    output = predictions.eval()\n",
    "    \n",
    "    print(output)"
   ]
  }
 ],
 "metadata": {
  "anaconda-cloud": {},
  "kernelspec": {
   "display_name": "Python [default]",
   "language": "python",
   "name": "python3"
  },
  "language_info": {
   "codemirror_mode": {
    "name": "ipython",
    "version": 3
   },
   "file_extension": ".py",
   "mimetype": "text/x-python",
   "name": "python",
   "nbconvert_exporter": "python",
   "pygments_lexer": "ipython3",
   "version": "3.5.2"
  }
 },
 "nbformat": 4,
 "nbformat_minor": 1
}
