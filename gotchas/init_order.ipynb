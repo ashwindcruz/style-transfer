{
 "cells": [
  {
   "cell_type": "markdown",
   "metadata": {},
   "source": [
    "A short snippet showing how to instatiate a TF Saver object that will only load weights for a specific subset of variables in the current graph. "
   ]
  },
  {
   "cell_type": "code",
   "execution_count": null,
   "metadata": {
    "collapsed": false
   },
   "outputs": [],
   "source": [
    "import numpy as np\n",
    "import sys\n",
    "import tensorflow as tf\n",
    "import tensorflow.contrib.slim as slim\n",
    "\n",
    "sys.path.append('../')\n",
    "\n",
    "import vgg"
   ]
  },
  {
   "cell_type": "code",
   "execution_count": null,
   "metadata": {
    "collapsed": false
   },
   "outputs": [],
   "source": [
    "# In case you want to rerun this block again, resetting the graph means you don't \n",
    "# have to restart the kernel\n",
    "tf.reset_default_graph()\n",
    "\n",
    "# Input dimensions\n",
    "height = 224\n",
    "width = 224\n",
    "channels = 3\n",
    "\n",
    "# The input node to the graph\n",
    "# These values are what is required by vgg19 for height, width, channels\n",
    "input_var_initial_value = np.ones([1, height, width, channels])\n",
    "input_var = tf.Variable(input_var_initial_value, dtype=tf.float32, name='input_var')\n",
    "\n",
    "# Load the vgg model\n",
    "with slim.arg_scope(vgg.vgg_arg_scope()):\n",
    "    logits, end_points = vgg.vgg_19(input_var, num_classes=1000, is_training=False)\n",
    "    \n",
    "# Choose a layer to extract features from\n",
    "predictions = end_points['vgg_19/conv2/conv2_2']"
   ]
  },
  {
   "cell_type": "code",
   "execution_count": null,
   "metadata": {
    "collapsed": false
   },
   "outputs": [],
   "source": [
    "# Prepare to restore the vgg19 nodes\n",
    "# Skip trying to restore the input variable since it's new\n",
    "all_variables = tf.get_collection_ref(tf.GraphKeys.GLOBAL_VARIABLES)\n",
    "saver = tf.train.Saver(var_list=all_variables[1:])"
   ]
  },
  {
   "cell_type": "code",
   "execution_count": null,
   "metadata": {
    "collapsed": true
   },
   "outputs": [],
   "source": [
    "# Set up initializer node\n",
    "init_op = tf.group(tf.global_variables_initializer(), tf.local_variables_initializer(),\n",
    "                  name='initialize_all')"
   ]
  },
  {
   "cell_type": "code",
   "execution_count": null,
   "metadata": {
    "collapsed": true
   },
   "outputs": [],
   "source": [
    "# Choose which input data type you want to experiment with, set to 0 or 1\n",
    "# 0: Run init op before restoring weights\n",
    "# 1: Run init op after restoring weights\n",
    "init_order = 0"
   ]
  },
  {
   "cell_type": "code",
   "execution_count": null,
   "metadata": {
    "collapsed": false,
    "scrolled": false
   },
   "outputs": [],
   "source": [
    "# Restore weights of vgg_10 model\n",
    "checkpoint_path = '../vgg_19.ckpt'\n",
    "with tf.Session() as sess:\n",
    "    \n",
    "    if init_order == 0:\n",
    "        # This is the correct order\n",
    "        sess.run(init_op)\n",
    "        saver.restore(sess, checkpoint_path)\n",
    "    else: \n",
    "        # This is the wrong order\n",
    "        saver.restore(sess, checkpoint_path)\n",
    "        sess.run(init_op)\n",
    "    \n",
    "    output = predictions.eval()\n",
    "    \n",
    "    print(output)"
   ]
  }
 ],
 "metadata": {
  "anaconda-cloud": {},
  "kernelspec": {
   "display_name": "Python [default]",
   "language": "python",
   "name": "python3"
  },
  "language_info": {
   "codemirror_mode": {
    "name": "ipython",
    "version": 3
   },
   "file_extension": ".py",
   "mimetype": "text/x-python",
   "name": "python",
   "nbconvert_exporter": "python",
   "pygments_lexer": "ipython3",
   "version": "3.5.2"
  }
 },
 "nbformat": 4,
 "nbformat_minor": 1
}
