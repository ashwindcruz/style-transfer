{
 "cells": [
  {
   "cell_type": "markdown",
   "metadata": {},
   "source": [
    "A short snippet demonstrating the effects of extension name on saving when using cv2."
   ]
  },
  {
   "cell_type": "code",
   "execution_count": 12,
   "metadata": {
    "collapsed": true
   },
   "outputs": [],
   "source": [
    "import cv2\n",
    "import numpy as np\n",
    "import os"
   ]
  },
  {
   "cell_type": "code",
   "execution_count": 6,
   "metadata": {
    "collapsed": false
   },
   "outputs": [],
   "source": [
    "# Set up the original dummy image\n",
    "dummy_image = np.random.rand(224,224,3)"
   ]
  },
  {
   "cell_type": "code",
   "execution_count": 7,
   "metadata": {
    "collapsed": false
   },
   "outputs": [
    {
     "data": {
      "text/plain": [
       "True"
      ]
     },
     "execution_count": 7,
     "metadata": {},
     "output_type": "execute_result"
    }
   ],
   "source": [
    "# Save two versions of the image using cv2\n",
    "cv2.imwrite('dummy_image.jpg', dummy_image)\n",
    "cv2.imwrite('dummy_image.png', dummy_image)"
   ]
  },
  {
   "cell_type": "code",
   "execution_count": 8,
   "metadata": {
    "collapsed": true
   },
   "outputs": [],
   "source": [
    "# Load the two saved images\n",
    "dummy_image_jpg = cv2.imread('dummy_image.jpg')\n",
    "dummy_image_png = cv2.imread('dummy_image.png')"
   ]
  },
  {
   "cell_type": "code",
   "execution_count": 9,
   "metadata": {
    "collapsed": false
   },
   "outputs": [
    {
     "name": "stdout",
     "output_type": "stream",
     "text": [
      "JPG difference: -585.1315707249505\n",
      "PNG difference: 54.868429275049586\n"
     ]
    }
   ],
   "source": [
    "# Compare the differences between the saved images and the original image\n",
    "jpg_difference = np.sum(dummy_image - dummy_image_jpg)\n",
    "png_difference = np.sum(dummy_image - dummy_image_png)\n",
    "\n",
    "print('JPG difference: {}'.format(jpg_difference))\n",
    "print('PNG difference: {}'.format(png_difference))"
   ]
  },
  {
   "cell_type": "code",
   "execution_count": 13,
   "metadata": {
    "collapsed": false
   },
   "outputs": [],
   "source": [
    "# Clean up\n",
    "os.remove('dummy_image.jpg')\n",
    "os.remove('dummy_image.png')"
   ]
  }
 ],
 "metadata": {
  "anaconda-cloud": {},
  "kernelspec": {
   "display_name": "Python [default]",
   "language": "python",
   "name": "python3"
  },
  "language_info": {
   "codemirror_mode": {
    "name": "ipython",
    "version": 3
   },
   "file_extension": ".py",
   "mimetype": "text/x-python",
   "name": "python",
   "nbconvert_exporter": "python",
   "pygments_lexer": "ipython3",
   "version": "3.5.2"
  }
 },
 "nbformat": 4,
 "nbformat_minor": 1
}
