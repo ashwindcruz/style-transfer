{
 "cells": [
  {
   "cell_type": "markdown",
   "metadata": {},
   "source": [
    "A short snippet showing how using the wrong data type for the input will cause a weird, seemingly unrelated error. "
   ]
  },
  {
   "cell_type": "code",
   "execution_count": null,
   "metadata": {
    "collapsed": false
   },
   "outputs": [],
   "source": [
    "import numpy as np\n",
    "import sys\n",
    "import tensorflow as tf\n",
    "import tensorflow.contrib.slim as slim\n",
    "\n",
    "sys.path.append('../')\n",
    "\n",
    "import vgg"
   ]
  },
  {
   "cell_type": "code",
   "execution_count": null,
   "metadata": {
    "collapsed": true
   },
   "outputs": [],
   "source": [
    "# Choose which input data type you want to experiment with, set to 0 or 1\n",
    "data_type_choice = 1\n",
    "\n",
    "if data_type_choice == 0:\n",
    "    input_data_type = np.float32 # This will work\n",
    "else:\n",
    "    input_data_type = np.float64 # This will fail"
   ]
  },
  {
   "cell_type": "code",
   "execution_count": null,
   "metadata": {
    "collapsed": false,
    "scrolled": false
   },
   "outputs": [],
   "source": [
    "# In case you want to rerun this block again, resetting the graph means you don't \n",
    "# have to restart the kernel\n",
    "tf.reset_default_graph()\n",
    "\n",
    "# Input dimensions\n",
    "height = 224\n",
    "width = 224\n",
    "channels = 3\n",
    "\n",
    "# The input to the graph\n",
    "# These values are what is required by vgg19 for height, width, channels\n",
    "input_var = np.random.rand(1, height, width, channels)\n",
    "input_var = np.asarray(input_var, dtype=input_data_type)\n",
    "\n",
    "# Load the vgg model\n",
    "with slim.arg_scope(vgg.vgg_arg_scope()):\n",
    "    logits, end_points = vgg.vgg_19(input_var, num_classes=1000, is_training=False)\n",
    "\n",
    "# Choose a particular layer to extract features from\n",
    "predictions = end_points['vgg_19/conv2/conv2_2']"
   ]
  },
  {
   "cell_type": "code",
   "execution_count": null,
   "metadata": {
    "collapsed": false,
    "scrolled": false
   },
   "outputs": [],
   "source": [
    "# Create saver object for restoring weights\n",
    "saver = tf.train.Saver()\n",
    "checkpoint_path = '../vgg_19.ckpt'\n",
    "\n",
    "with tf.Session() as sess:\n",
    "    saver.restore(sess, checkpoint_path)\n",
    "    predictions.eval()"
   ]
  }
 ],
 "metadata": {
  "anaconda-cloud": {},
  "kernelspec": {
   "display_name": "Python [default]",
   "language": "python",
   "name": "python3"
  },
  "language_info": {
   "codemirror_mode": {
    "name": "ipython",
    "version": 3
   },
   "file_extension": ".py",
   "mimetype": "text/x-python",
   "name": "python",
   "nbconvert_exporter": "python",
   "pygments_lexer": "ipython3",
   "version": "3.5.2"
  }
 },
 "nbformat": 4,
 "nbformat_minor": 1
}
